{
 "cells": [
  {
   "cell_type": "markdown",
   "metadata": {},
   "source": [
    "# Creación de un modelo a partir de un dataset sintético"
   ]
  },
  {
   "cell_type": "markdown",
   "metadata": {},
   "source": [
    "Los dos conjuntos de datos sintéticos se generaron utilizando el mismo modelo de datos subyacente. El objetivo es **crear un modelo predictivo** utilizando los datos del conjunto de **datos de entrenamiento** *(train)* para **predecir los valores objetivo retenidos del conjunto de prueba** *(test)*.\n",
    "\n",
    "Se evaluará la precisión predictiva en el conjunto de prueba utilizando la métrica del **error cuadrático medio**. \n",
    "Para compeltar este proyecto se debe producir lo siguiente:\n",
    "\n",
    "* Un archivo de texto de 1000 x 1 que contiene 1 predicción por línea para cada registro en el conjunto de datos de prueba *(test)*.\n",
    "* Un breve informe que describe las técnicas utilizadas para generar las predicciones. Detalles como características importantes y estimaciones de rendimiento predictivo son útiles aquí, aunque no estrictamente necesarios.\n",
    "* (Opcional) Una versión implementable del modelo. El aspecto que tendría esto depende en gran medida de los métodos utilizados, pero podría incluir cosas como código fuente, un objeto \"pickled\" Python , un archivo PMML, etc.\n",
    "\n",
    "\n",
    "### Descripción de datos\n",
    "Se proporcionan dos archivos delimitados por tabulaciones junto con estas instrucciones:\n",
    "\n",
    "* **codetest_train.txt**: 5000 registros x 254 features + 1 target (~7,8 MB)\n",
    "* **codetest_test.txt**: 1000 registros x 254 features (~1,5 MB)\n",
    "\n",
    "\n",
    "### Aspectos prácticos\n",
    "El propósito de esta tarea es evaluar la capacidad para escribir software para recopilar, normalizar, almacenar, analizar y visualizar datos del \"mundo real\". La prueba está diseñada para durar unas dos horas.\n",
    "\n",
    "También puede utilizar cualquier herramienta o software en su computadora, o que esté disponible gratuitamente en Internet. Preferimos que utilice herramientas más simples que otras más complejas y que sea \"vago\" en el sentido de utilizar API y bibliotecas de terceros tanto como sea posible. Fomentamos la reutilización del código cuando sea apropiado. Si incluye código directamente en su envío que fue escrito por otra persona que no sea los módulos importados comúnmente, asegúrese de proporcionar la atribución adecuada, incluida una URL, texto, autor, etc. u otra información disponible en los comentarios del código.\n",
    "\n",
    "Haz todo lo que puedas, lo mejor que puedas. Prefiere soluciones eficientes y elegantes. Prefiera el análisis escrito al uso irrepetible de herramientas GUI. Por motivos de seguridad de los datos y tiempo de transferencia, se le ha proporcionado un archivo de datos relativamente pequeño. Prefiera soluciones que no requieran que el conjunto de datos completo se almacene en la memoria.\n",
    "\n",
    "Ciertamente no es necesario tener experiencia previa trabajando en este tipo de problemas. Más bien, buscamos la capacidad de investigar y seleccionar las herramientas adecuadas para un problema abierto e implementar algo significativo. También estamos interesados ​​en su capacidad para trabajar en equipo, lo que significa considerar cómo empaquetar y entregar sus resultados de una manera que facilite que otros los revisen. Los volcados de datos y códigos no documentados son prácticamente inútiles; El código comentado y una redacción clara con imágenes elegantes son ideales."
   ]
  }
 ],
 "metadata": {
  "language_info": {
   "name": "python"
  }
 },
 "nbformat": 4,
 "nbformat_minor": 2
}
