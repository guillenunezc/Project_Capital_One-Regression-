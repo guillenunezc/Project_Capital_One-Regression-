{
 "cells": [
  {
   "cell_type": "markdown",
   "metadata": {},
   "source": [
    "# 1. Análisis Exploratorio de datos"
   ]
  },
  {
   "cell_type": "code",
   "execution_count": 2,
   "metadata": {},
   "outputs": [],
   "source": [
    "# Importación de librerías necesarias\n",
    "import pandas as pd\n",
    "import numpy as np\n",
    "import matplotlib.pyplot as plt\n",
    "import seaborn as sns\n",
    "import random\n",
    "\n",
    "# Como la predicción a realizar es una regresión (valor numerico continuo) y no clasificación, se importan modelos de regresión.\n",
    "from sklearn.linear_model import LinearRegression\n",
    "from sklearn.ensemble import RandomForestRegressor\n",
    "from sklearn.linear_model import Lasso, Ridge\n",
    "from sklearn.preprocessing import StandardScaler        # Para que la magnitud de las distintas variables estén en la misma escala.\n",
    "from sklearn.model_selection import train_test_split    # El dataset ya viene dividido... se volverá a dividir? ----> A simple vista no debiese usarse\n",
    "from sklearn.preprocessing import LabelEncoder          # Para codificar las variables categóricas en numéricas ----> A simple vista no debiese usarse, ya que todas las variables son numéricas\n",
    "from sklearn.metrics import mean_squared_error          # Métrica requerida en el enunciado del problema (error cuadrático medio)\n",
    "\n",
    "\n",
    "# Configurando una seed para reproducibilidad\n",
    "random.seed(42)"
   ]
  },
  {
   "cell_type": "markdown",
   "metadata": {},
   "source": [
    "# 2. Preparación de datos"
   ]
  },
  {
   "cell_type": "markdown",
   "metadata": {},
   "source": [
    "# 3. Modelado"
   ]
  },
  {
   "cell_type": "markdown",
   "metadata": {},
   "source": [
    "# 4. Conclusiones"
   ]
  }
 ],
 "metadata": {
  "kernelspec": {
   "display_name": "ml",
   "language": "python",
   "name": "python3"
  },
  "language_info": {
   "codemirror_mode": {
    "name": "ipython",
    "version": 3
   },
   "file_extension": ".py",
   "mimetype": "text/x-python",
   "name": "python",
   "nbconvert_exporter": "python",
   "pygments_lexer": "ipython3",
   "version": "3.11.5"
  }
 },
 "nbformat": 4,
 "nbformat_minor": 2
}
