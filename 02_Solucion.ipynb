{
 "cells": [
  {
   "cell_type": "markdown",
   "metadata": {},
   "source": [
    "# 1. Análisis Exploratorio de datos"
   ]
  },
  {
   "cell_type": "code",
   "execution_count": 1,
   "metadata": {},
   "outputs": [],
   "source": [
    "# Importación de librerías necesarias\n",
    "import pandas as pd\n",
    "import numpy as np\n",
    "import matplotlib.pyplot as plt\n",
    "import seaborn as sns\n",
    "import random\n",
    "\n",
    "# Como la predicción a realizar es una regresión (valor numerico continuo) y no clasificación, se importan modelos de regresión.\n",
    "from sklearn.linear_model import LinearRegression\n",
    "from sklearn.ensemble import RandomForestRegressor\n",
    "from sklearn.linear_model import Lasso, Ridge\n",
    "from sklearn.preprocessing import StandardScaler        # Para que la magnitud de las distintas variables estén en la misma escala.\n",
    "from sklearn.model_selection import train_test_split    # El dataset ya viene dividido... se volverá a dividir? ----> A simple vista no debiese usarse\n",
    "from sklearn.preprocessing import LabelEncoder          # Para codificar las variables categóricas en numéricas ----> Si existen tipo Object: \tf_61\tf_121\tf_215\tf_237\n",
    "from sklearn.metrics import mean_squared_error          # Métrica requerida en el enunciado del problema (error cuadrático medio)\n",
    "\n",
    "\n",
    "# Configurando una seed para reproducibilidad\n",
    "random.seed(42)"
   ]
  },
  {
   "cell_type": "markdown",
   "metadata": {},
   "source": [
    "## Recordar del enunciado del problema\n",
    "**Descripción de datos**\n",
    "\n",
    "Se proporcionan dos archivos delimitados por tabulaciones junto con estas instrucciones:\n",
    "\n",
    "* **codetest_train.txt**: 5000 registros x 254 features + 1 target (~7,8 MB)\n",
    "* **codetest_test.txt**: 1000 registros x 254 features (~1,5 MB)\n"
   ]
  },
  {
   "cell_type": "code",
   "execution_count": 2,
   "metadata": {},
   "outputs": [
    {
     "data": {
      "text/html": [
       "<div>\n",
       "<style scoped>\n",
       "    .dataframe tbody tr th:only-of-type {\n",
       "        vertical-align: middle;\n",
       "    }\n",
       "\n",
       "    .dataframe tbody tr th {\n",
       "        vertical-align: top;\n",
       "    }\n",
       "\n",
       "    .dataframe thead th {\n",
       "        text-align: right;\n",
       "    }\n",
       "</style>\n",
       "<table border=\"1\" class=\"dataframe\">\n",
       "  <thead>\n",
       "    <tr style=\"text-align: right;\">\n",
       "      <th></th>\n",
       "      <th>target</th>\n",
       "      <th>f_0</th>\n",
       "      <th>f_1</th>\n",
       "      <th>f_2</th>\n",
       "      <th>f_3</th>\n",
       "      <th>f_4</th>\n",
       "      <th>f_5</th>\n",
       "      <th>f_6</th>\n",
       "      <th>f_7</th>\n",
       "      <th>f_8</th>\n",
       "      <th>...</th>\n",
       "      <th>f_244</th>\n",
       "      <th>f_245</th>\n",
       "      <th>f_246</th>\n",
       "      <th>f_247</th>\n",
       "      <th>f_248</th>\n",
       "      <th>f_249</th>\n",
       "      <th>f_250</th>\n",
       "      <th>f_251</th>\n",
       "      <th>f_252</th>\n",
       "      <th>f_253</th>\n",
       "    </tr>\n",
       "  </thead>\n",
       "  <tbody>\n",
       "    <tr>\n",
       "      <th>0</th>\n",
       "      <td>3.066056</td>\n",
       "      <td>-0.653</td>\n",
       "      <td>0.255</td>\n",
       "      <td>-0.615</td>\n",
       "      <td>-1.833</td>\n",
       "      <td>-0.736</td>\n",
       "      <td>NaN</td>\n",
       "      <td>1.115</td>\n",
       "      <td>-0.171</td>\n",
       "      <td>-0.351</td>\n",
       "      <td>...</td>\n",
       "      <td>-1.607</td>\n",
       "      <td>-1.400</td>\n",
       "      <td>-0.920</td>\n",
       "      <td>-0.198</td>\n",
       "      <td>-0.945</td>\n",
       "      <td>-0.573</td>\n",
       "      <td>0.170</td>\n",
       "      <td>-0.418</td>\n",
       "      <td>-1.244</td>\n",
       "      <td>-0.503</td>\n",
       "    </tr>\n",
       "    <tr>\n",
       "      <th>1</th>\n",
       "      <td>-1.910473</td>\n",
       "      <td>1.179</td>\n",
       "      <td>-0.093</td>\n",
       "      <td>-0.556</td>\n",
       "      <td>0.811</td>\n",
       "      <td>-0.468</td>\n",
       "      <td>-0.005</td>\n",
       "      <td>-0.116</td>\n",
       "      <td>-1.243</td>\n",
       "      <td>1.985</td>\n",
       "      <td>...</td>\n",
       "      <td>1.282</td>\n",
       "      <td>0.032</td>\n",
       "      <td>-0.061</td>\n",
       "      <td>NaN</td>\n",
       "      <td>-0.061</td>\n",
       "      <td>-0.302</td>\n",
       "      <td>1.281</td>\n",
       "      <td>-0.850</td>\n",
       "      <td>0.821</td>\n",
       "      <td>-0.260</td>\n",
       "    </tr>\n",
       "    <tr>\n",
       "      <th>2</th>\n",
       "      <td>7.830711</td>\n",
       "      <td>0.181</td>\n",
       "      <td>-0.778</td>\n",
       "      <td>-0.919</td>\n",
       "      <td>0.113</td>\n",
       "      <td>0.887</td>\n",
       "      <td>-0.762</td>\n",
       "      <td>1.872</td>\n",
       "      <td>-1.709</td>\n",
       "      <td>0.135</td>\n",
       "      <td>...</td>\n",
       "      <td>-0.237</td>\n",
       "      <td>-0.660</td>\n",
       "      <td>1.073</td>\n",
       "      <td>-0.193</td>\n",
       "      <td>0.570</td>\n",
       "      <td>-0.267</td>\n",
       "      <td>1.435</td>\n",
       "      <td>1.332</td>\n",
       "      <td>-1.147</td>\n",
       "      <td>2.580</td>\n",
       "    </tr>\n",
       "    <tr>\n",
       "      <th>3</th>\n",
       "      <td>-2.180862</td>\n",
       "      <td>0.745</td>\n",
       "      <td>-0.245</td>\n",
       "      <td>-1.343</td>\n",
       "      <td>1.163</td>\n",
       "      <td>-0.169</td>\n",
       "      <td>-0.151</td>\n",
       "      <td>-1.100</td>\n",
       "      <td>0.225</td>\n",
       "      <td>1.223</td>\n",
       "      <td>...</td>\n",
       "      <td>0.709</td>\n",
       "      <td>-0.203</td>\n",
       "      <td>-0.136</td>\n",
       "      <td>-0.571</td>\n",
       "      <td>1.682</td>\n",
       "      <td>0.243</td>\n",
       "      <td>-0.381</td>\n",
       "      <td>0.613</td>\n",
       "      <td>1.033</td>\n",
       "      <td>0.400</td>\n",
       "    </tr>\n",
       "    <tr>\n",
       "      <th>4</th>\n",
       "      <td>5.462784</td>\n",
       "      <td>1.217</td>\n",
       "      <td>-1.324</td>\n",
       "      <td>-0.958</td>\n",
       "      <td>0.448</td>\n",
       "      <td>-2.873</td>\n",
       "      <td>-0.856</td>\n",
       "      <td>0.603</td>\n",
       "      <td>0.763</td>\n",
       "      <td>0.020</td>\n",
       "      <td>...</td>\n",
       "      <td>0.892</td>\n",
       "      <td>-0.433</td>\n",
       "      <td>-0.877</td>\n",
       "      <td>0.289</td>\n",
       "      <td>0.654</td>\n",
       "      <td>1.230</td>\n",
       "      <td>0.457</td>\n",
       "      <td>-0.754</td>\n",
       "      <td>-0.025</td>\n",
       "      <td>-0.931</td>\n",
       "    </tr>\n",
       "  </tbody>\n",
       "</table>\n",
       "<p>5 rows × 255 columns</p>\n",
       "</div>"
      ],
      "text/plain": [
       "     target    f_0    f_1    f_2    f_3    f_4    f_5    f_6    f_7    f_8  \\\n",
       "0  3.066056 -0.653  0.255 -0.615 -1.833 -0.736    NaN  1.115 -0.171 -0.351   \n",
       "1 -1.910473  1.179 -0.093 -0.556  0.811 -0.468 -0.005 -0.116 -1.243  1.985   \n",
       "2  7.830711  0.181 -0.778 -0.919  0.113  0.887 -0.762  1.872 -1.709  0.135   \n",
       "3 -2.180862  0.745 -0.245 -1.343  1.163 -0.169 -0.151 -1.100  0.225  1.223   \n",
       "4  5.462784  1.217 -1.324 -0.958  0.448 -2.873 -0.856  0.603  0.763  0.020   \n",
       "\n",
       "   ...  f_244  f_245  f_246  f_247  f_248  f_249  f_250  f_251  f_252  f_253  \n",
       "0  ... -1.607 -1.400 -0.920 -0.198 -0.945 -0.573  0.170 -0.418 -1.244 -0.503  \n",
       "1  ...  1.282  0.032 -0.061    NaN -0.061 -0.302  1.281 -0.850  0.821 -0.260  \n",
       "2  ... -0.237 -0.660  1.073 -0.193  0.570 -0.267  1.435  1.332 -1.147  2.580  \n",
       "3  ...  0.709 -0.203 -0.136 -0.571  1.682  0.243 -0.381  0.613  1.033  0.400  \n",
       "4  ...  0.892 -0.433 -0.877  0.289  0.654  1.230  0.457 -0.754 -0.025 -0.931  \n",
       "\n",
       "[5 rows x 255 columns]"
      ]
     },
     "execution_count": 2,
     "metadata": {},
     "output_type": "execute_result"
    }
   ],
   "source": [
    "# Carga de datos\n",
    "train_data = pd.read_csv(\"datasets\\codetest_train.txt\", delimiter=\"\\t\")\n",
    "test_data = pd.read_csv(\"datasets\\codetest_test.txt\", delimiter=\"\\t\")\n",
    "\n",
    "train_data.head()"
   ]
  },
  {
   "cell_type": "markdown",
   "metadata": {},
   "source": [
    "## Resumen global de los datos"
   ]
  },
  {
   "cell_type": "code",
   "execution_count": 3,
   "metadata": {},
   "outputs": [
    {
     "data": {
      "text/html": [
       "<div>\n",
       "<style scoped>\n",
       "    .dataframe tbody tr th:only-of-type {\n",
       "        vertical-align: middle;\n",
       "    }\n",
       "\n",
       "    .dataframe tbody tr th {\n",
       "        vertical-align: top;\n",
       "    }\n",
       "\n",
       "    .dataframe thead th {\n",
       "        text-align: right;\n",
       "    }\n",
       "</style>\n",
       "<table border=\"1\" class=\"dataframe\">\n",
       "  <thead>\n",
       "    <tr style=\"text-align: right;\">\n",
       "      <th></th>\n",
       "      <th>target</th>\n",
       "      <th>f_0</th>\n",
       "      <th>f_1</th>\n",
       "      <th>f_2</th>\n",
       "      <th>f_3</th>\n",
       "      <th>f_4</th>\n",
       "      <th>f_5</th>\n",
       "      <th>f_6</th>\n",
       "      <th>f_7</th>\n",
       "      <th>f_8</th>\n",
       "      <th>...</th>\n",
       "      <th>f_244</th>\n",
       "      <th>f_245</th>\n",
       "      <th>f_246</th>\n",
       "      <th>f_247</th>\n",
       "      <th>f_248</th>\n",
       "      <th>f_249</th>\n",
       "      <th>f_250</th>\n",
       "      <th>f_251</th>\n",
       "      <th>f_252</th>\n",
       "      <th>f_253</th>\n",
       "    </tr>\n",
       "  </thead>\n",
       "  <tbody>\n",
       "    <tr>\n",
       "      <th>count</th>\n",
       "      <td>5000.000000</td>\n",
       "      <td>4903.000000</td>\n",
       "      <td>4928.000000</td>\n",
       "      <td>4908.000000</td>\n",
       "      <td>4910.000000</td>\n",
       "      <td>4907.000000</td>\n",
       "      <td>4912.000000</td>\n",
       "      <td>4897.000000</td>\n",
       "      <td>4904.000000</td>\n",
       "      <td>4893.000000</td>\n",
       "      <td>...</td>\n",
       "      <td>4910.000000</td>\n",
       "      <td>4883.000000</td>\n",
       "      <td>4914.000000</td>\n",
       "      <td>4894.000000</td>\n",
       "      <td>4902.000000</td>\n",
       "      <td>4886.000000</td>\n",
       "      <td>4900.000000</td>\n",
       "      <td>4921.000000</td>\n",
       "      <td>4904.000000</td>\n",
       "      <td>4904.000000</td>\n",
       "    </tr>\n",
       "    <tr>\n",
       "      <th>mean</th>\n",
       "      <td>1.143878</td>\n",
       "      <td>-0.000433</td>\n",
       "      <td>0.002564</td>\n",
       "      <td>0.028877</td>\n",
       "      <td>-0.005437</td>\n",
       "      <td>-0.006759</td>\n",
       "      <td>0.005569</td>\n",
       "      <td>0.001536</td>\n",
       "      <td>-0.001019</td>\n",
       "      <td>0.009744</td>\n",
       "      <td>...</td>\n",
       "      <td>0.013529</td>\n",
       "      <td>0.004941</td>\n",
       "      <td>0.023261</td>\n",
       "      <td>-0.018447</td>\n",
       "      <td>-0.009842</td>\n",
       "      <td>0.016958</td>\n",
       "      <td>-0.004947</td>\n",
       "      <td>0.016868</td>\n",
       "      <td>-0.001351</td>\n",
       "      <td>0.010334</td>\n",
       "    </tr>\n",
       "    <tr>\n",
       "      <th>std</th>\n",
       "      <td>5.259896</td>\n",
       "      <td>0.999739</td>\n",
       "      <td>0.997930</td>\n",
       "      <td>1.019337</td>\n",
       "      <td>0.990351</td>\n",
       "      <td>1.006293</td>\n",
       "      <td>0.995799</td>\n",
       "      <td>1.004624</td>\n",
       "      <td>0.997356</td>\n",
       "      <td>0.988310</td>\n",
       "      <td>...</td>\n",
       "      <td>1.001453</td>\n",
       "      <td>0.997330</td>\n",
       "      <td>0.996458</td>\n",
       "      <td>1.005000</td>\n",
       "      <td>0.989228</td>\n",
       "      <td>1.011331</td>\n",
       "      <td>0.991577</td>\n",
       "      <td>1.001358</td>\n",
       "      <td>1.003411</td>\n",
       "      <td>1.006896</td>\n",
       "    </tr>\n",
       "    <tr>\n",
       "      <th>min</th>\n",
       "      <td>-26.705570</td>\n",
       "      <td>-3.941000</td>\n",
       "      <td>-3.847000</td>\n",
       "      <td>-3.818000</td>\n",
       "      <td>-3.434000</td>\n",
       "      <td>-3.400000</td>\n",
       "      <td>-4.051000</td>\n",
       "      <td>-3.179000</td>\n",
       "      <td>-3.890000</td>\n",
       "      <td>-3.857000</td>\n",
       "      <td>...</td>\n",
       "      <td>-3.585000</td>\n",
       "      <td>-3.494000</td>\n",
       "      <td>-3.485000</td>\n",
       "      <td>-4.012000</td>\n",
       "      <td>-3.252000</td>\n",
       "      <td>-3.821000</td>\n",
       "      <td>-3.376000</td>\n",
       "      <td>-3.373000</td>\n",
       "      <td>-3.950000</td>\n",
       "      <td>-3.728000</td>\n",
       "    </tr>\n",
       "    <tr>\n",
       "      <th>25%</th>\n",
       "      <td>-2.034383</td>\n",
       "      <td>-0.673000</td>\n",
       "      <td>-0.685000</td>\n",
       "      <td>-0.651000</td>\n",
       "      <td>-0.655000</td>\n",
       "      <td>-0.685500</td>\n",
       "      <td>-0.660000</td>\n",
       "      <td>-0.672000</td>\n",
       "      <td>-0.679000</td>\n",
       "      <td>-0.662000</td>\n",
       "      <td>...</td>\n",
       "      <td>-0.665750</td>\n",
       "      <td>-0.676000</td>\n",
       "      <td>-0.661750</td>\n",
       "      <td>-0.692000</td>\n",
       "      <td>-0.663000</td>\n",
       "      <td>-0.647750</td>\n",
       "      <td>-0.679500</td>\n",
       "      <td>-0.647000</td>\n",
       "      <td>-0.695000</td>\n",
       "      <td>-0.677000</td>\n",
       "    </tr>\n",
       "    <tr>\n",
       "      <th>50%</th>\n",
       "      <td>1.166835</td>\n",
       "      <td>-0.011000</td>\n",
       "      <td>-0.003000</td>\n",
       "      <td>0.047500</td>\n",
       "      <td>0.003500</td>\n",
       "      <td>-0.007000</td>\n",
       "      <td>-0.008000</td>\n",
       "      <td>-0.003000</td>\n",
       "      <td>-0.021500</td>\n",
       "      <td>0.017000</td>\n",
       "      <td>...</td>\n",
       "      <td>0.026000</td>\n",
       "      <td>-0.028000</td>\n",
       "      <td>0.027000</td>\n",
       "      <td>-0.035000</td>\n",
       "      <td>-0.010500</td>\n",
       "      <td>0.002500</td>\n",
       "      <td>0.010000</td>\n",
       "      <td>0.020000</td>\n",
       "      <td>0.002500</td>\n",
       "      <td>0.015000</td>\n",
       "    </tr>\n",
       "    <tr>\n",
       "      <th>75%</th>\n",
       "      <td>4.439549</td>\n",
       "      <td>0.677000</td>\n",
       "      <td>0.674500</td>\n",
       "      <td>0.719000</td>\n",
       "      <td>0.668000</td>\n",
       "      <td>0.654000</td>\n",
       "      <td>0.649000</td>\n",
       "      <td>0.679000</td>\n",
       "      <td>0.670250</td>\n",
       "      <td>0.698000</td>\n",
       "      <td>...</td>\n",
       "      <td>0.671750</td>\n",
       "      <td>0.670000</td>\n",
       "      <td>0.702500</td>\n",
       "      <td>0.655000</td>\n",
       "      <td>0.651000</td>\n",
       "      <td>0.709750</td>\n",
       "      <td>0.660250</td>\n",
       "      <td>0.692000</td>\n",
       "      <td>0.672250</td>\n",
       "      <td>0.705250</td>\n",
       "    </tr>\n",
       "    <tr>\n",
       "      <th>max</th>\n",
       "      <td>26.347818</td>\n",
       "      <td>3.831000</td>\n",
       "      <td>3.996000</td>\n",
       "      <td>3.199000</td>\n",
       "      <td>4.962000</td>\n",
       "      <td>3.106000</td>\n",
       "      <td>4.296000</td>\n",
       "      <td>4.166000</td>\n",
       "      <td>3.798000</td>\n",
       "      <td>4.195000</td>\n",
       "      <td>...</td>\n",
       "      <td>3.365000</td>\n",
       "      <td>3.456000</td>\n",
       "      <td>3.881000</td>\n",
       "      <td>3.690000</td>\n",
       "      <td>3.629000</td>\n",
       "      <td>4.144000</td>\n",
       "      <td>3.873000</td>\n",
       "      <td>3.187000</td>\n",
       "      <td>3.724000</td>\n",
       "      <td>3.956000</td>\n",
       "    </tr>\n",
       "  </tbody>\n",
       "</table>\n",
       "<p>8 rows × 251 columns</p>\n",
       "</div>"
      ],
      "text/plain": [
       "            target          f_0          f_1          f_2          f_3  \\\n",
       "count  5000.000000  4903.000000  4928.000000  4908.000000  4910.000000   \n",
       "mean      1.143878    -0.000433     0.002564     0.028877    -0.005437   \n",
       "std       5.259896     0.999739     0.997930     1.019337     0.990351   \n",
       "min     -26.705570    -3.941000    -3.847000    -3.818000    -3.434000   \n",
       "25%      -2.034383    -0.673000    -0.685000    -0.651000    -0.655000   \n",
       "50%       1.166835    -0.011000    -0.003000     0.047500     0.003500   \n",
       "75%       4.439549     0.677000     0.674500     0.719000     0.668000   \n",
       "max      26.347818     3.831000     3.996000     3.199000     4.962000   \n",
       "\n",
       "               f_4          f_5          f_6          f_7          f_8  ...  \\\n",
       "count  4907.000000  4912.000000  4897.000000  4904.000000  4893.000000  ...   \n",
       "mean     -0.006759     0.005569     0.001536    -0.001019     0.009744  ...   \n",
       "std       1.006293     0.995799     1.004624     0.997356     0.988310  ...   \n",
       "min      -3.400000    -4.051000    -3.179000    -3.890000    -3.857000  ...   \n",
       "25%      -0.685500    -0.660000    -0.672000    -0.679000    -0.662000  ...   \n",
       "50%      -0.007000    -0.008000    -0.003000    -0.021500     0.017000  ...   \n",
       "75%       0.654000     0.649000     0.679000     0.670250     0.698000  ...   \n",
       "max       3.106000     4.296000     4.166000     3.798000     4.195000  ...   \n",
       "\n",
       "             f_244        f_245        f_246        f_247        f_248  \\\n",
       "count  4910.000000  4883.000000  4914.000000  4894.000000  4902.000000   \n",
       "mean      0.013529     0.004941     0.023261    -0.018447    -0.009842   \n",
       "std       1.001453     0.997330     0.996458     1.005000     0.989228   \n",
       "min      -3.585000    -3.494000    -3.485000    -4.012000    -3.252000   \n",
       "25%      -0.665750    -0.676000    -0.661750    -0.692000    -0.663000   \n",
       "50%       0.026000    -0.028000     0.027000    -0.035000    -0.010500   \n",
       "75%       0.671750     0.670000     0.702500     0.655000     0.651000   \n",
       "max       3.365000     3.456000     3.881000     3.690000     3.629000   \n",
       "\n",
       "             f_249        f_250        f_251        f_252        f_253  \n",
       "count  4886.000000  4900.000000  4921.000000  4904.000000  4904.000000  \n",
       "mean      0.016958    -0.004947     0.016868    -0.001351     0.010334  \n",
       "std       1.011331     0.991577     1.001358     1.003411     1.006896  \n",
       "min      -3.821000    -3.376000    -3.373000    -3.950000    -3.728000  \n",
       "25%      -0.647750    -0.679500    -0.647000    -0.695000    -0.677000  \n",
       "50%       0.002500     0.010000     0.020000     0.002500     0.015000  \n",
       "75%       0.709750     0.660250     0.692000     0.672250     0.705250  \n",
       "max       4.144000     3.873000     3.187000     3.724000     3.956000  \n",
       "\n",
       "[8 rows x 251 columns]"
      ]
     },
     "execution_count": 3,
     "metadata": {},
     "output_type": "execute_result"
    }
   ],
   "source": [
    "# Cálculo de estadísticas básicas del dataset\n",
    "# Son tantas variables que se hace imposible revisar todas.\n",
    "train_data.describe()"
   ]
  },
  {
   "cell_type": "markdown",
   "metadata": {},
   "source": [
    "* Se observa que la variable Target presenta un rango de valores mayor que el resto de variables *(-26.7 a 26.4)*, por lo cual es buena idea escalar los datos."
   ]
  },
  {
   "cell_type": "code",
   "execution_count": 4,
   "metadata": {},
   "outputs": [
    {
     "data": {
      "text/plain": [
       "Text(0.5, 1.0, 'Distribución de la variable target')"
      ]
     },
     "execution_count": 4,
     "metadata": {},
     "output_type": "execute_result"
    },
    {
     "data": {
      "image/png": "[encoded data removed]",
      "text/plain": [
       "<Figure size 1000x700 with 1 Axes>"
      ]
     },
     "metadata": {},
     "output_type": "display_data"
    }
   ],
   "source": [
    "# Visualización de la distribución de variable \"target\"\n",
    "plt.figure(figsize=(10,7))\n",
    "sns.histplot(train_data[\"target\"], kde=True, bins=50)\n",
    "plt.title(\"Distribución de la variable target\")"
   ]
  },
  {
   "cell_type": "markdown",
   "metadata": {},
   "source": [
    "**Observaciones:**\n",
    "* La variable cuenta con una distribución normal.\n",
    "* No se observan valores atípicos."
   ]
  },
  {
   "cell_type": "markdown",
   "metadata": {},
   "source": [
    "# 2. Preparación de datos"
   ]
  },
  {
   "cell_type": "markdown",
   "metadata": {},
   "source": [
    "### Revisión del tipo de datos (Int, Float o Object)\n",
    "\n",
    "---"
   ]
  },
  {
   "cell_type": "code",
   "execution_count": 5,
   "metadata": {},
   "outputs": [
    {
     "name": "stdout",
     "output_type": "stream",
     "text": [
      "<class 'pandas.core.frame.DataFrame'>\n",
      "RangeIndex: 5000 entries, 0 to 4999\n",
      "Columns: 255 entries, target to f_253\n",
      "dtypes: float64(251), object(4)\n",
      "memory usage: 9.7+ MB\n"
     ]
    }
   ],
   "source": [
    "# Revisamos el tipo de datos que almacenan las features\n",
    "# Notamos que existen 4 features de tipo object\n",
    "train_data.info()"
   ]
  },
  {
   "cell_type": "markdown",
   "metadata": {},
   "source": [
    "**Observaciones:**\n",
    "1. Ambos dataset presentan columnas categóricas, las cuales son: **'f_61', 'f_121', 'f_215', 'f_237'** que representan letras, colores y países.\n",
    "2. Para trabajar con modelos de ML, es necesario codificarlas/transformarlas a valores numéricos. *(LabelEncoder o OneHotEncoding)*\n",
    "3. Antes de realizar alguna transformación, realizaré la revisión de valores faltantes y su imputación en caso que existan."
   ]
  },
  {
   "cell_type": "markdown",
   "metadata": {},
   "source": [
    "### 2.1 Encoding (categóricas a numéricas)\n",
    "---\n",
    "Esta etapa se realiza primero que la imputación de Datos faltantes (2.2) ya que de lo contrario al intentar realizar una imputación sobre columnas categóricas (con letras) generará error.\n",
    "\n",
    "La otra opción, si no se quiere hacer primero el encoding (que no tiene ninguna falla o error hacerlo primero) sería limitar el ciclo FOR y excluir las variables categóricas, pero sería complicar el flujo."
   ]
  },
  {
   "cell_type": "code",
   "execution_count": 6,
   "metadata": {},
   "outputs": [
    {
     "data": {
      "text/plain": [
       "(     f_61 f_121   f_215   f_237\n",
       " 0       b     D     red  Canada\n",
       " 1       a     A    blue  Canada\n",
       " 2       b     B  orange  Canada\n",
       " 3       a     C    blue     USA\n",
       " 4       b     E  orange  Canada\n",
       " ...   ...   ...     ...     ...\n",
       " 4995    e     B    blue  Canada\n",
       " 4996    c     F     red  Canada\n",
       " 4997    d     F  yellow  Mexico\n",
       " 4998    d     C    blue     USA\n",
       " 4999    a     B     red  Mexico\n",
       " \n",
       " [5000 rows x 4 columns],\n",
       "     f_61 f_121   f_215   f_237\n",
       " 0      e     A  yellow  Mexico\n",
       " 1      d     B     red  Canada\n",
       " 2      d     C     NaN  Mexico\n",
       " 3      e     E    blue     USA\n",
       " 4      b     C     NaN  Mexico\n",
       " ..   ...   ...     ...     ...\n",
       " 995    b     B  yellow     USA\n",
       " 996    b     B  yellow  Mexico\n",
       " 997    e     D     red  Canada\n",
       " 998    c     B     red  Mexico\n",
       " 999    d     F     red  Canada\n",
       " \n",
       " [1000 rows x 4 columns])"
      ]
     },
     "execution_count": 6,
     "metadata": {},
     "output_type": "execute_result"
    }
   ],
   "source": [
    "# Identificamos las features de tipo object\n",
    "train_data.select_dtypes(include=\"object\"), test_data.select_dtypes(include=\"object\")"
   ]
  },
  {
   "cell_type": "code",
   "execution_count": 7,
   "metadata": {},
   "outputs": [
    {
     "name": "stdout",
     "output_type": "stream",
     "text": [
      "Las siguientes son las columnas categóricas (train y test):\n",
      " ['f_61', 'f_121', 'f_215', 'f_237']\n"
     ]
    }
   ],
   "source": [
    "cols_categoricas = list(train_data.select_dtypes(include=\"object\").columns)\n",
    "\n",
    "print(\"Las siguientes son las columnas categóricas (train y test):\\n \" + str(cols_categoricas))"
   ]
  },
  {
   "cell_type": "markdown",
   "metadata": {},
   "source": [
    "**Observaciones:**\n",
    "* Se detectaron las variables categóricas: **f_61, f_121, f_215 y f_237**\n",
    "* Debo aplicar un \"encoder\" para transformarlas a variables numéricas.\n",
    "    * Esto provocará que aumente el numero de características de ***train_data (255)*** y ***test_data (254)***. \n",
    "        * **Corrección**: Este encoder (LabelEncoder) no genera nuevas características, en su lugar mantiene la misma columna pero reemplaza cada categoría por un numero entero (1, 2, 3, 4... etc)\n",
    "        * El potencial problema de este encoder es que el modelo de ML puede interpretar que a mayor numero, mayor importancia, lo cual no necesariamente es cierto. "
   ]
  },
  {
   "cell_type": "code",
   "execution_count": 8,
   "metadata": {},
   "outputs": [
    {
     "name": "stdout",
     "output_type": "stream",
     "text": [
      "<class 'pandas.core.frame.DataFrame'>\n",
      "RangeIndex: 5000 entries, 0 to 4999\n",
      "Columns: 255 entries, target to f_253\n",
      "dtypes: float64(251), int32(4)\n",
      "memory usage: 9.7 MB\n"
     ]
    }
   ],
   "source": [
    "# Instanciando el encoder\n",
    "encoder = LabelEncoder()\n",
    "\n",
    "# For que recorre las categorías no numéricas de train_data\n",
    "for col in cols_categoricas:\n",
    "    train_data[col] = encoder.fit_transform(train_data[col].astype(str))\n",
    "\n",
    "# For que recorre las categorías no numéricas de test_data\n",
    "for col in cols_categoricas:\n",
    "    test_data[col] = encoder.fit_transform(test_data[col].astype(str))\n",
    "    \n",
    "# Confirmando que el dataframe ahora tiene solo características numéricas\n",
    "train_data.info()"
   ]
  },
  {
   "cell_type": "code",
   "execution_count": 9,
   "metadata": {},
   "outputs": [
    {
     "name": "stdout",
     "output_type": "stream",
     "text": [
      "Las antiguas variables categoricas ahora son numericas y tienen la siguiente cantidad de numeros unicos:\n",
      "f_61     6\n",
      "f_121    7\n",
      "f_215    5\n",
      "f_237    4\n",
      "dtype: int64\n"
     ]
    }
   ],
   "source": [
    "print(\"Las antiguas variables categoricas ahora son numericas y tienen la siguiente cantidad de numeros unicos:\")\n",
    "print(train_data[['f_61', 'f_121', 'f_215', 'f_237']].nunique())"
   ]
  },
  {
   "cell_type": "markdown",
   "metadata": {},
   "source": [
    "### 2.2 Datos faltantes\n",
    "---"
   ]
  },
  {
   "cell_type": "code",
   "execution_count": 10,
   "metadata": {},
   "outputs": [
    {
     "name": "stdout",
     "output_type": "stream",
     "text": [
      "Porcentaje de datos NaN en train_data:\n",
      " target    0.00\n",
      "f_0       1.94\n",
      "f_1       1.44\n",
      "f_2       1.84\n",
      "f_3       1.80\n",
      "          ... \n",
      "f_249     2.28\n",
      "f_250     2.00\n",
      "f_251     1.58\n",
      "f_252     1.92\n",
      "f_253     1.92\n",
      "Length: 255, dtype: float64\n",
      "\n",
      "=============================\n",
      "\n",
      "Porcentaje de datos NaN en test_data:\n",
      " f_0      2.8\n",
      "f_1      1.7\n",
      "f_2      1.7\n",
      "f_3      1.8\n",
      "f_4      2.2\n",
      "        ... \n",
      "f_249    2.0\n",
      "f_250    1.9\n",
      "f_251    2.2\n",
      "f_252    2.1\n",
      "f_253    1.5\n",
      "Length: 254, dtype: float64\n"
     ]
    }
   ],
   "source": [
    "# Chequeo si existen datos faltantes o nulos\n",
    "# Ambos dataset presentan datos faltantes.\n",
    "# Proceder: ¿Eliminar o Imputar?\n",
    "print(\"Porcentaje de datos NaN en train_data:\\n\", train_data.isna().sum()/len(train_data)*100)\n",
    "print(\"\\n=============================\\n\")\n",
    "print(\"Porcentaje de datos NaN en test_data:\\n\", test_data.isna().sum()/len(test_data)*100)"
   ]
  },
  {
   "cell_type": "markdown",
   "metadata": {},
   "source": [
    "**Observaciones:**\n",
    "* En algunas columnas faltan hasta el 2% de los datos.\n",
    "* La forma de proceder en este caso en particular será realizar la imputación por la **mediana**\n",
    "    * Motivo: La mediana es una medida central de los datos y que **no se ve mayormente afectada por los datos atípicos** (outliers)."
   ]
  },
  {
   "cell_type": "markdown",
   "metadata": {},
   "source": [
    "Imputación de NaN\n",
    "Se utilizará la Mediana para el reemplazo de valores faltantes.\n",
    "Existen varias formas de realizar el reemplazo en cada columna:\n",
    "1. Forma 1: Crear un FOR que recorra la lista de columnas identificadas con valores faltantes y aplicar el reemplazo en ellas.\n",
    "2. Forma 2: Aplicar la función fillna() a todo el dataset. La función solo reemplazará los valores en las columnas que detecte que tienen NaN.\n",
    "    * No se puede utilizar este método ya que train_data.fillna(train_data.median(), inplace=True) dará error, debido a que reconoce a las columnas categóricas como NaN y no puede reemplazar letras por su media (se podría solucionar usando su moda, que si existe para variables categóricas, pero no lo usaré en este caso.)"
   ]
  },
  {
   "cell_type": "code",
   "execution_count": 11,
   "metadata": {},
   "outputs": [],
   "source": [
    "# Imputacion de NaN por la mediana\n",
    "# Forma 1: Aplicar fillna() a todas las columnas del train_data. Para esto se debe aplicar un FOR que ponga cada una de las columnas dentro del fillna(train_data[col].median())\n",
    "\n",
    "# Imputando la mediana en train_data\n",
    "for col in train_data.columns:\n",
    "    train_data[col] = train_data[col].fillna(train_data[col].median())\n",
    "    \n",
    "# Imputando la mediana para test_data\n",
    "for col in test_data.columns:\n",
    "    test_data[col] = test_data[col].fillna(test_data[col].median())"
   ]
  },
  {
   "cell_type": "code",
   "execution_count": 12,
   "metadata": {},
   "outputs": [
    {
     "name": "stdout",
     "output_type": "stream",
     "text": [
      "Cantidad de datos NaN en train_data:\n",
      " Series([], dtype: int64)\n",
      "\n",
      "Cantidad de datos NaN en test_data:\n",
      " Series([], dtype: int64)\n"
     ]
    }
   ],
   "source": [
    "missing_train = train_data.isnull().sum()\n",
    "print(\"Cantidad de datos NaN en train_data:\\n\" , missing_train[missing_train > 0])\n",
    "\n",
    "missing_test = test_data.isnull().sum()\n",
    "print(\"\\nCantidad de datos NaN en test_data:\\n\", missing_test[missing_test > 0])"
   ]
  },
  {
   "cell_type": "markdown",
   "metadata": {},
   "source": [
    "**Observaciones:**\n",
    "* Se han reemplazado las variables categóricas por numéricas en ambos datasets.\n",
    "* Se han imputado valores NaN por la mediana de sus variables, en ambos datasets."
   ]
  },
  {
   "cell_type": "markdown",
   "metadata": {},
   "source": [
    "# 3. Modelado"
   ]
  },
  {
   "cell_type": "markdown",
   "metadata": {},
   "source": [
    "En este punto ya tenemos todo lo necesario para poder aplicar modelos de ML a los datos, ya que:\n",
    "1. Los datos están separados en train y test. Ojo, sería bueno dividir nuevamente el train y así obtener un dataset de **validation**.\n",
    "2. No existen datos NaN, los cuales podrían producir problemas en los algoritmos de ML.\n",
    "3. No existen features/variables del tipo categórica. (recordar que es un problema de regresión, no de clasificación)\n",
    "\n",
    "* **Nota**: Solo faltaría escalar las variables, para evitar que features más grandes sean más predominantes."
   ]
  },
  {
   "cell_type": "markdown",
   "metadata": {},
   "source": [
    "### Crear train, validation y test datasets\n",
    "---\n",
    "\n",
    "Si bien ya contamos con el train y test, es buena idea obtener el ***validation*** a partir del train_data. Esto tiene varias razones:\n",
    "* **Ajuste del modelo**: el conjunto de *validación* permite el **ajuste de hiperparámetros** sin afectar la integridad del conjunto de prueba *(test)*.\n",
    "* **Mitigación del sobreajuste**: el uso de un conjunto de validación puede indicar si su modelo se está sobreajustando a los datos de entrenamiento *(train)*.\n",
    "* **Evaluación imparcial**: el conjunto de pruebas *(test)* está reservado únicamente para la evaluación final, lo que proporciona una métrica de rendimiento imparcial."
   ]
  },
  {
   "cell_type": "markdown",
   "metadata": {},
   "source": [
    "### Modelos a utilizar\n",
    "---\n",
    "Se utilizarán cuatro modelos para predecir la variable \"target\":\n",
    "* Regresión Lineal\n",
    "* Random Forest\n",
    "* Lasso Regression\n",
    "* Ridge Regression"
   ]
  },
  {
   "cell_type": "markdown",
   "metadata": {},
   "source": [
    "### Etapas de construcción del modelo\n",
    "\n",
    "* **Normalización de funciones**: Comenzaremos normalizando las variables para evitar predominancia de las que tienen mayor magnitud.\n",
    "* **Inicialización del modelo**: A continuación, se inicializa el modelo.\n",
    "* **Ajuste del modelo**: Se ajusta el modelo a los datos de entrenamiento para permitirle \"aprender\" mejor.\n",
    "* **Validación y evaluación**: Finalmente, utilizamos el conjunto de *validación* para hacer predicciones y calcular el error cuadrático medio (MSE) como métrica de rendimiento."
   ]
  },
  {
   "cell_type": "markdown",
   "metadata": {},
   "source": [
    "### División del dataset en X_train, X_test, y_train e y_test\n",
    "---"
   ]
  },
  {
   "cell_type": "markdown",
   "metadata": {},
   "source": [
    "![Como se diven los datos para el entrenamiento dle modelo](train_test_split-procedure.webp)"
   ]
  },
  {
   "cell_type": "code",
   "execution_count": 15,
   "metadata": {},
   "outputs": [],
   "source": [
    "# Separando las variables X e y del training_data. (testdata no lo vamos a tocar por el momento)\n",
    "\n",
    "# Recordar que hasta el momento tengo train_data y test_data\n",
    "X = train_data.drop(\"target\", axis=1)\n",
    "y = train_data[\"target\"]\n",
    "\n",
    "# División de los datos en training y validation sets\n",
    "X_train, X_val, y_train, y_val = train_test_split(X, y, test_size=0.2, random_state=42)"
   ]
  },
  {
   "cell_type": "markdown",
   "metadata": {},
   "source": [
    "### Normalizado de las características\n",
    "---"
   ]
  },
  {
   "cell_type": "code",
   "execution_count": 20,
   "metadata": {},
   "outputs": [],
   "source": [
    "# Se instancia el scaler a utilizar\n",
    "scaler = StandardScaler()\n",
    "X_train_scaled = scaler.fit_transform(X_train)      # El escalado se aplica solo a las variables independientes X. Es rara la vez que se escale la variable dependiente y (target/objetivo)\n",
    "X_val_scaled = scaler.transform(X_val)"
   ]
  },
  {
   "cell_type": "markdown",
   "metadata": {},
   "source": [
    "### 3.1 Regresión Lineal\n",
    "---"
   ]
  },
  {
   "cell_type": "code",
   "execution_count": 41,
   "metadata": {},
   "outputs": [
    {
     "name": "stdout",
     "output_type": "stream",
     "text": [
      "Error Cuadrático Medio para Regresión Lineal:   14.010723344651982\n",
      "=============================================\n"
     ]
    }
   ],
   "source": [
    "# Instanciando el modelo de Regresión Lineal\n",
    "lr_model = LinearRegression()\n",
    "\n",
    "# Entrenando el modelo con datos de entrenamiento (solo X se escala, y se mantiene igual por ser el objetivo)\n",
    "lr_model.fit(X_train_scaled, y_train)\n",
    "\n",
    "# Predicciones en el set de validación\n",
    "y_val_pred_lr = lr_model.predict(X_val_scaled)\n",
    "\n",
    "# Calculando el error cuadrático medio (mean squared error)\n",
    "mse_lr = mean_squared_error(y_val, y_val_pred_lr)\n",
    "print(\"Error Cuadrático Medio para Regresión Lineal:\" + \"   \" + str(mse_lr))\n",
    "print(\"=============================================\")"
   ]
  },
  {
   "cell_type": "markdown",
   "metadata": {},
   "source": [
    "### 3.2 Random Forest\n",
    "---"
   ]
  },
  {
   "cell_type": "code",
   "execution_count": 39,
   "metadata": {},
   "outputs": [
    {
     "name": "stdout",
     "output_type": "stream",
     "text": [
      "Error Cuadrático Medio para Random Forest:   12.025551828152306\n",
      "=============================================\n"
     ]
    }
   ],
   "source": [
    "# Instanciar el modelo\n",
    "rf_model = RandomForestRegressor(random_state=42)\n",
    "\n",
    "# Entrenar el modelo con datos de entrenamiento\n",
    "rf_model.fit(X_train_scaled, y_train)\n",
    "\n",
    "# Precciones del modelo\n",
    "y_val_pred_rf = rf_model.predict(X_val_scaled)\n",
    "\n",
    "# Error Cuadrático Medio\n",
    "mse_rf = mean_squared_error(y_val, y_val_pred_rf)\n",
    "\n",
    "print(\"Error Cuadrático Medio para Random Forest:\" + \"   \" + str(mse_rf))\n",
    "print(\"=============================================\")"
   ]
  },
  {
   "cell_type": "markdown",
   "metadata": {},
   "source": [
    "### Lasso y Ridge\n",
    "---"
   ]
  },
  {
   "cell_type": "code",
   "execution_count": 40,
   "metadata": {},
   "outputs": [
    {
     "name": "stdout",
     "output_type": "stream",
     "text": [
      "Error Cuadrático Medio para Lasso:   18.001387093995596\n",
      "Error Cuadrático Medio para Ridge:   14.010561607998667\n",
      "=============================================\n"
     ]
    }
   ],
   "source": [
    "# Instanciar los modelos\n",
    "lasso_model = Lasso()\n",
    "ridge_model = Ridge()\n",
    "\n",
    "# Entrenar los modelos\n",
    "lasso_model.fit(X_train_scaled, y_train)\n",
    "ridge_model.fit(X_train_scaled, y_train)\n",
    "\n",
    "# Predicciones con los modelos\n",
    "y_val_pred_lasso = lasso_model.predict(X_val_scaled)\n",
    "y_val_pred_ridge = ridge_model.predict(X_val_scaled)\n",
    "\n",
    "# Error Cuadrático Medio\n",
    "mse_lasso = mean_squared_error(y_val, y_val_pred_lasso)\n",
    "mse_ridge = mean_squared_error(y_val, y_val_pred_ridge)\n",
    "\n",
    "print(\"Error Cuadrático Medio para Lasso:\" + \"   \" + str(mse_lasso))\n",
    "print(\"Error Cuadrático Medio para Ridge:\" + \"   \" + str(mse_ridge))\n",
    "print(\"=============================================\")"
   ]
  },
  {
   "cell_type": "markdown",
   "metadata": {},
   "source": [
    "# MSE y RMSE\n",
    "Vamos a calcular el RMSE (Raíz del Error Cuadrático Medio)\n",
    "\n",
    "* El MSE da más peso a errores más grandes (debido al cuadrado del error), lo que puede ser útil cuando los errores grandes son particularmente indeseables.\n",
    "* El RMSE es más interpretable en términos de las unidades originales de la variable de respuesta, lo que lo hace más fácil de entender y comunicar. Es especialmente útil cuando quieres comparar errores de modelos en diferentes escalas."
   ]
  },
  {
   "cell_type": "code",
   "execution_count": 44,
   "metadata": {},
   "outputs": [
    {
     "name": "stdout",
     "output_type": "stream",
     "text": [
      "Error Cuadrático Medio (MSE): [14.010723344651982, 12.025551828152306, 18.001387093995596, 14.010561607998667]\n",
      "Raíz del Error Cuadrático Medio (RMSE): [3.7430900796871, 3.4677877426613506, 4.242804154565185, 3.7430684749278456]\n"
     ]
    }
   ],
   "source": [
    "# Calculo de RMSE\n",
    "\n",
    "rmse_lr = np.sqrt(mse_lr)\n",
    "rmse_rf = np.sqrt(mse_rf)\n",
    "rmse_lasso = np.sqrt(mse_lasso)\n",
    "rmse_ridge = np.sqrt(mse_ridge)\n",
    "\n",
    "mse_values_all = [mse_lr, mse_rf, mse_lasso, mse_ridge]\n",
    "rmse_values_all = [rmse_lr, rmse_rf, rmse_lasso, rmse_ridge]\n",
    "\n",
    "print(\"Error Cuadrático Medio (MSE): \" + str(mse_values_all))\n",
    "print(\"Raíz del Error Cuadrático Medio (RMSE): \" + str(rmse_values_all))"
   ]
  },
  {
   "cell_type": "markdown",
   "metadata": {},
   "source": [
    "### R Cuadrado para todos los modelos\n",
    "Esta es otra métrica, la cual se utilizará para gráficar más abajo (RMSE y R´2)"
   ]
  },
  {
   "cell_type": "code",
   "execution_count": 45,
   "metadata": {},
   "outputs": [],
   "source": [
    "r2_lr = lr_model.score(X_val_scaled, y_val)\n",
    "r2_rf = rf_model.score(X_val_scaled, y_val)\n",
    "r2_lasso = lasso_model.score(X_val_scaled, y_val)\n",
    "r2_ridge = ridge_model.score(X_val_scaled, y_val)\n",
    "\n",
    "r2_values_all = [r2_lr, r2_rf, r2_lasso, r2_ridge]\n"
   ]
  },
  {
   "cell_type": "markdown",
   "metadata": {},
   "source": [
    "### Gráfica comparativa de RMSE y R cuadrado"
   ]
  },
  {
   "cell_type": "code",
   "execution_count": 62,
   "metadata": {},
   "outputs": [
    {
     "data": {
      "image/png": "[encoded data removed]",
      "text/plain": [
       "<Figure size 1800x600 with 2 Axes>"
      ]
     },
     "metadata": {},
     "output_type": "display_data"
    }
   ],
   "source": [
    "models_all = [\"Regresión Lineal\", \"Random Forest\", \"Lasso\", \"Ridge\"]\n",
    "\n",
    "color1 = '#98C5C0'  # Light teal\n",
    "color2 = '#A880DC'  # Light purple\n",
    "\n",
    "fig, ax = plt.subplots(1, 2, figsize=(18,6))\n",
    "\n",
    "ax[0].barh(models_all,rmse_values_all, color=color1)\n",
    "ax[0].set_xlabel(\"RMSE (Raíz del Error Cuadrático Medio)\")\n",
    "ax[0].set_title(\"Comparación de RMSE entre los cuatro modelos\")\n",
    "\n",
    "ax[1].barh(models_all,r2_values_all, color=color2)\n",
    "ax[1].set_xlabel(\"R cuadrado\")\n",
    "ax[1].set_title(\"Comparación de R cuadrado entre los cuatro modelos\")\n",
    "\n",
    "plt.tight_layout()"
   ]
  },
  {
   "cell_type": "markdown",
   "metadata": {},
   "source": [
    "# 4. Conclusiones"
   ]
  },
  {
   "cell_type": "markdown",
   "metadata": {},
   "source": [
    "**Observaciones:**\n",
    "* El modelo Random Forest fue el mejor tanto en RMSE (obtuvo el menor error) como en R cuadrado (obtuvo el puntaje más alto)\n",
    "* Se realizo el escalado de los valores para que los modelos no interpretaran variables con mayor escalas como más importantes.\n",
    "* Se realizó la limpieza de datos faltantes, específicamente la imputación de los NaN por la Mediana de cada característica, para asi evitar el impacto de valores atípicos."
   ]
  }
 ],
 "metadata": {
  "kernelspec": {
   "display_name": "ml",
   "language": "python",
   "name": "python3"
  },
  "language_info": {
   "codemirror_mode": {
    "name": "ipython",
    "version": 3
   },
   "file_extension": ".py",
   "mimetype": "text/x-python",
   "name": "python",
   "nbconvert_exporter": "python",
   "pygments_lexer": "ipython3",
   "version": "3.11.5"
  }
 },
 "nbformat": 4,
 "nbformat_minor": 2
}
